{
 "cells": [
  {
   "cell_type": "code",
   "execution_count": 11,
   "metadata": {},
   "outputs": [
    {
     "name": "stdout",
     "output_type": "stream",
     "text": [
      "n_brackets 6\n",
      "budgets per stage {0: [1562.5, 3125.0, 6250.0, 12500.0, 25000.0, 50000.0, 100000.0], 1: [3125.0, 6250.0, 12500.0, 25000.0, 50000.0, 100000.0], 2: [6250.0, 12500.0, 25000.0, 50000.0, 100000.0], 3: [12500.0, 25000.0, 50000.0, 100000.0], 4: [25000.0, 50000.0, 100000.0], 5: [50000.0, 100000.0], 6: [100000.0]}\n",
      "n configs per stage {0: [64, 32, 16, 8, 4, 2, 1], 1: [38, 19, 9, 4, 2, 1], 2: [23, 11, 5, 2, 1], 3: [14, 7, 3, 1], 4: [10, 5, 2], 5: [7, 3], 6: [7]}\n",
      "total number of trials 301\n",
      "total budget 1201562.5\n",
      "is in total budget: True\n"
     ]
    }
   ],
   "source": [
    "from smac.intensifier.successive_halving import SuccessiveHalving\n",
    "import numpy as np\n",
    "\n",
    "total_budget_allowed = 10_000_000\n",
    "min_budget = 1000\n",
    "max_budget = 100000  # R\n",
    "eta = 2\n",
    "\n",
    "_s_max = SuccessiveHalving._get_max_iterations(eta, max_budget, min_budget)\n",
    "\n",
    "_max_iterations: dict[int, int] = {}\n",
    "_n_configs_in_stage: dict[int, list] = {}\n",
    "_budgets_in_stage: dict[int, list] = {}\n",
    "\n",
    "for i in range(_s_max + 1):\n",
    "    max_iter = _s_max - i\n",
    "\n",
    "    _budgets_in_stage[i], _n_configs_in_stage[i] = SuccessiveHalving._compute_configs_and_budgets_for_stages(\n",
    "        eta, max_budget, max_iter, _s_max\n",
    "    )\n",
    "    _max_iterations[i] = max_iter + 1\n",
    "\n",
    "\n",
    "total_trials = np.sum([np.sum(v) for v in _n_configs_in_stage.values()])\n",
    "total_budget = np.sum([np.sum(v) for v in _budgets_in_stage.values()])\n",
    "\n",
    "print(\"n_brackets\", _s_max)\n",
    "print(\"budgets per stage\", _budgets_in_stage)\n",
    "print(\"n configs per stage\", _n_configs_in_stage)\n",
    "print(\"total number of trials\", total_trials)\n",
    "print(\"total budget\",  total_budget)\n",
    "print(\"is in total budget:\", total_budget < total_budget_allowed)\n",
    "\n"
   ]
  }
 ],
 "metadata": {
  "kernelspec": {
   "display_name": "arlbench",
   "language": "python",
   "name": "python3"
  },
  "language_info": {
   "codemirror_mode": {
    "name": "ipython",
    "version": 3
   },
   "file_extension": ".py",
   "mimetype": "text/x-python",
   "name": "python",
   "nbconvert_exporter": "python",
   "pygments_lexer": "ipython3",
   "version": "3.10.13"
  }
 },
 "nbformat": 4,
 "nbformat_minor": 2
}
