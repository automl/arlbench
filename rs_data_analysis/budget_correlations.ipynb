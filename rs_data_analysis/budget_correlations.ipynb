{
 "cells": [
  {
   "cell_type": "code",
   "execution_count": 90,
   "metadata": {},
   "outputs": [],
   "source": [
    "from deepcave import Recorder, Objective\n",
    "from deepcave.runs.converters.deepcave import DeepCAVERun\n",
    "from deepcave.plugins.budget.budget_correlation import BudgetCorrelation\n",
    "import pandas as pd\n",
    "from arlbench.core.algorithms import DQN, PPO, SAC\n",
    "from pathlib import Path\n",
    "from ConfigSpace import ConfigurationSpace, Float, Categorical\n",
    "import math\n",
    "import os\n",
    "import json"
   ]
  },
  {
   "cell_type": "code",
   "execution_count": 91,
   "metadata": {},
   "outputs": [],
   "source": [
    "replacement_dict = {\"atari_qbert\": \"Atari\", 'atari_double_dunk': \"Atari\", 'atari_phoenix': \"Atari\", 'atari_this_game': \"Atari\", 'atari_battle_zone': \"Atari\", \n",
    "                    'box2d_lunar_lander': \"Box2d\", \"box2d_bipedal_walker\": \"Box2d\", 'cc_acrobot': \"CC\", 'cc_cartpole': \"CC\", 'cc_mountain_car': \"CC\", \"cc_pendulum\": \"CC\", 'cc_continuous_mountain_car': \"CC\",\n",
    "                    'minigrid_door_key': \"XLand\", 'minigrid_empty_random': \"XLand\", 'minigrid_four_rooms': \"XLand\", \n",
    "                    'minigrid_unlock': \"XLand\", \"brax_ant\": \"Brax\", \"brax_halfcheetah\": \"Brax\", \"brax_hopper\": \"Brax\", \"brax_humanoid\": \"Brax\"}\n",
    "algorithms = {\"dqn\": DQN, \"ppo\": PPO, \"sac\": SAC}\n",
    "envs = [\"atari_qbert\", 'atari_double_dunk', 'atari_phoenix', 'atari_this_game', 'atari_battle_zone', \n",
    "        'box2d_lunar_lander', 'box2d_bipedal_walker', 'cc_acrobot', 'cc_cartpole', 'cc_mountain_car', 'cc_pendulum', 'cc_continuous_mountain_car',\n",
    "        'minigrid_door_key', 'minigrid_empty_random', 'minigrid_four_rooms', 'minigrid_unlock', 'brax_ant', 'brax_halfcheetah', 'brax_hopper', 'brax_humanoid']\n",
    "full_env_names =[\"CartPole-v1\", \"MountainCar-v0\", \"MountainCarContinuous-v0\", \"Acrobot-v1\", \"Pendulum-v1\", \"LunarLander-v2\", \"LunarLanderContinuous-v2\", \"BipedalWalker-v3\", \"halfcheetah\", \"ant\", \"hopper\", \"humanoid\", \"Qbert-v5\", \"DoubleDunk-v5\", \"Phoenix-v5\", \"ThisGame-v5\", \"BattleZone-v5\", \"MiniGrid-DoorKey-5x5\", \"MiniGrid-Empty-Random-5x5\", \"MiniGrid-FourRooms\", \"MiniGrid-Unlock\"]\n",
    "map_env_to_full = {\"atari_qbert\": \"Qbert-v5\", 'atari_double_dunk': \"DoubleDunk-v5\", 'atari_phoenix': \"Phoenix-v5\", 'atari_this_game': \"NameThisGame-v5\", 'atari_battle_zone': \"BattleZone-v5\", \n",
    "                   \"box2d_lunar_lander\": \"LunarLander-v2\", \"box2d_bipedal_walker\": \"BipedalWalker-v3\", 'cc_acrobot': \"Acrobot-v1\", 'cc_cartpole': \"CartPole-v1\", 'cc_mountain_car': \"MountainCar-v0\", \"cc_pendulum\": \"Pendulum-v1\", 'cc_continuous_mountain_car': \"MountainCarContinuous-v0\",\n",
    "                   \"minigrid_door_key\": \"MiniGrid-DoorKey-5x5\", \"minigrid_empty_random\": \"MiniGrid-EmptyRandom-5x5\", \"minigrid_four_rooms\": \"MiniGrid-FourRooms\",\n",
    "                         \"minigrid_unlock\": \"MiniGrid-Unlock\", \"brax_ant\": \"ant\", \"brax_halfcheetah\": \"halfcheetah\", \"brax_hopper\": \"hopper\", \"brax_humanoid\": \"humanoid\"}"
   ]
  },
  {
   "cell_type": "code",
   "execution_count": 92,
   "metadata": {},
   "outputs": [],
   "source": [
    "def data_to_dynamic_deepcave(algorithm, env, domain=False, save_path=None):\n",
    "    target_dir = f\"../results_finished/sobol_landscaping/{domain.split('_')[0]}/{algorithm}/{algorithm}_{env}\"\n",
    "    target_path = f\"../results_combined/sobol/{domain}_{algorithm}.csv\"\n",
    "    try:\n",
    "        all_configs = pd.read_csv(target_path)\n",
    "    except:\n",
    "        print(f\"Could not read {target_path}\")\n",
    "        return\n",
    "\n",
    "    default_configspace = algorithms[algorithm].get_hpo_search_space().get_hyperparameter_names()\n",
    "    configspace = ConfigurationSpace()\n",
    "    for c in default_configspace:\n",
    "        if c in [\"buffer_prio_sampling\", \"use_target_network\", \"alpha_auto\", \"normalize_advantage\"]:\n",
    "            hp = Categorical(c, [True, False])\n",
    "            configspace.add_hyperparameter(hp)\n",
    "        else:\n",
    "            key = [a for a in all_configs.keys() if c in a]\n",
    "            if len(key) > 0:\n",
    "                key = key[0]\n",
    "                hp_min = all_configs[key].min()\n",
    "                hp_max = all_configs[key].max()\n",
    "                bounds = (min(0, hp_min-0.1*hp_min), hp_max+0.1*hp_max)\n",
    "                hp = Float(c, bounds=bounds)\n",
    "                configspace.add_hyperparameter(hp)\n",
    "    default = configspace.get_default_configuration()\n",
    "    accuracy = Objective(\"reward_mean\", lower=min(all_configs[\"performance\"]), upper=max(all_configs[\"performance\"]), optimize=\"upper\")\n",
    "    save_path = save_path if save_path else f\"deepcave_logs_curves/{algorithm}_{domain}\"\n",
    "\n",
    "    with Recorder(configspace, objectives=[accuracy], save_path=save_path) as r:\n",
    "        for index, d in all_configs.iterrows():\n",
    "            current_hps = d\n",
    "            config = default\n",
    "            for c in current_hps.keys():\n",
    "                key = c.split(\".\")[-1]\n",
    "                if key in config.keys():\n",
    "                    if math.isnan(current_hps[c]):\n",
    "                        current_hps[c] = 0\n",
    "                    try:\n",
    "                        value = float(current_hps[c])\n",
    "                    except:\n",
    "                        current_hps[c]\n",
    "                    config[key] = value\n",
    "\n",
    "            try:\n",
    "                performance_file = f\"{target_dir}/{d['seed']}/{d['run_id']}/evaluation.csv\"\n",
    "                partials = pd.read_csv(performance_file)\n",
    "                partials[\"seed\"] = d['seed']\n",
    "                partials[\"returns\"] = -1*partials[\"returns\"]\n",
    "\n",
    "                for i, p in partials.iterrows():\n",
    "                    budget = p[\"steps\"]/partials[\"steps\"].max()\n",
    "                    r.start(config=config, budget=budget, seed=p[\"seed\"])\n",
    "                    r.end(config=config, costs=p[\"returns\"], budget=budget, seed=p[\"seed\"])\n",
    "            except:\n",
    "                pass\n",
    "            r.start(config=config, budget=1, seed=d[\"seed\"])\n",
    "            r.end(config=config, costs=current_hps[\"performance\"], budget=1, seed=d[\"seed\"])\n",
    "    return save_path"
   ]
  },
  {
   "cell_type": "code",
   "execution_count": 93,
   "metadata": {},
   "outputs": [],
   "source": [
    "def get_budget_correlations(path):\n",
    "    # Instantiate the run\n",
    "    run = DeepCAVERun.from_path(Path(path))\n",
    "    objective_id = run.get_objective_ids()[0]\n",
    "    budget_id = run.get_budget_ids()\n",
    "\n",
    "    # Instantiate the plugin\n",
    "    plugin = BudgetCorrelation()\n",
    "\n",
    "    inputs = plugin.generate_inputs(\n",
    "        objective_id=objective_id,\n",
    "    )\n",
    "    # Note: Filter variables are not considered.\n",
    "    outputs = plugin.generate_outputs(run, inputs)\n",
    "\n",
    "    # Finally, you can load the figure. Here, the filter variables play a role.\n",
    "    # Alternatively: Use the matplotlib output (`load_mpl_outputs`) if available.\n",
    "    figure = plugin.load_outputs(run, inputs, outputs)  # plotly.go figure\n",
    "    return figure"
   ]
  },
  {
   "cell_type": "code",
   "execution_count": 95,
   "metadata": {},
   "outputs": [
    {
     "name": "stdout",
     "output_type": "stream",
     "text": [
      "[Errno 2] No such file or directory: '../results_finished/sobol_landscaping/atari/ppo/ppo_BattleZone-v5/5/124/evaluation.csv'\n",
      "Could not read ../results_combined/sobol/box2d_bipedal_walker_ppo.csv\n"
     ]
    }
   ],
   "source": [
    "deepcave_paths = []\n",
    "algorithm = \"ppo\"\n",
    "for e in envs:\n",
    "    if not os.path.exists(f\"deepcave_logs_curves/{algorithm}_{e}/run_1\"):\n",
    "        try:\n",
    "            data_path = data_to_dynamic_deepcave(algorithm, map_env_to_full[e], domain=e)\n",
    "            deepcave_paths.append(data_path)\n",
    "        except Exception as e:\n",
    "            print(e)\n",
    "    else:\n",
    "        deepcave_paths.append(f\"deepcave_logs_curves/{algorithm}_{e}\")"
   ]
  },
  {
   "cell_type": "code",
   "execution_count": 96,
   "metadata": {},
   "outputs": [],
   "source": [
    "corrs = {}"
   ]
  },
  {
   "cell_type": "code",
   "execution_count": 97,
   "metadata": {},
   "outputs": [
    {
     "name": "stdout",
     "output_type": "stream",
     "text": [
      "deepcave_logs_curves/ppo_atari_qbert: The budget correlation of (0.1, 0.2), (0.1, 0.3), (0.2, 0.3), (0.1, 0.4), (0.2, 0.4), (0.3, 0.4), (0.1, 0.5), (0.2, 0.5), (0.3, 0.5), (0.4, 0.5), (0.1, 0.6), (0.2, 0.6), (0.3, 0.6), (0.4, 0.6), (0.5, 0.6), (0.1, 0.7), (0.2, 0.7), (0.3, 0.7), (0.4, 0.7), (0.5, 0.7), (0.6, 0.7), (0.1, 0.8), (0.2, 0.8), (0.3, 0.8), (0.4, 0.8), (0.5, 0.8), (0.6, 0.8), (0.7, 0.8), (0.1, 0.9), (0.2, 0.9), (0.3, 0.9), (0.4, 0.9), (0.5, 0.9), (0.6, 0.9), (0.7, 0.9), (0.8, 0.9), (0.1, 1.0), (0.2, 1.0), (0.3, 1.0), (0.4, 1.0), (0.5, 1.0), (0.6, 1.0), (0.7, 1.0), (0.8, 1.0), (0.9, 1.0) is very strong.\n",
      "deepcave_logs_curves/ppo_atari_double_dunk: The budget correlation of (0.1, 0.2), (0.2, 0.3), (0.2, 0.4), (0.3, 0.4), (0.2, 0.5), (0.3, 0.5), (0.4, 0.5), (0.3, 0.6), (0.4, 0.6), (0.5, 0.6), (0.2, 0.7), (0.3, 0.7), (0.4, 0.7), (0.5, 0.7), (0.6, 0.7), (0.2, 0.8), (0.3, 0.8), (0.4, 0.8), (0.5, 0.8), (0.7, 0.8), (0.2, 0.9), (0.3, 0.9), (0.6, 0.9), (0.7, 0.9), (0.2, 1.0), (0.3, 1.0), (0.4, 1.0), (0.5, 1.0), (0.6, 1.0), (0.7, 1.0), (0.8, 1.0), (0.9, 1.0) is strong, (0.1, 0.3), (0.1, 0.4), (0.1, 0.5), (0.1, 0.6), (0.2, 0.6), (0.1, 0.7), (0.1, 1.0) is moderate, (0.1, 0.8), (0.1, 0.9) is weak, and (0.6, 0.8), (0.4, 0.9), (0.5, 0.9), (0.8, 0.9) is very strong.\n",
      "deepcave_logs_curves/ppo_atari_phoenix: The budget correlation of (0.1, 0.2), (0.1, 0.3), (0.2, 0.3), (0.1, 0.4), (0.2, 0.4), (0.3, 0.4), (0.1, 0.5), (0.2, 0.5), (0.3, 0.5), (0.4, 0.5), (0.1, 0.6), (0.2, 0.6), (0.3, 0.6), (0.4, 0.6), (0.5, 0.6), (0.1, 0.7), (0.2, 0.7), (0.3, 0.7), (0.4, 0.7), (0.5, 0.7), (0.6, 0.7), (0.1, 0.8), (0.2, 0.8), (0.3, 0.8), (0.4, 0.8), (0.5, 0.8), (0.6, 0.8), (0.7, 0.8), (0.1, 0.9), (0.2, 0.9), (0.3, 0.9), (0.4, 0.9), (0.5, 0.9), (0.6, 0.9), (0.7, 0.9), (0.8, 0.9) is very strong, and (0.1, 1.0), (0.2, 1.0), (0.3, 1.0), (0.4, 1.0), (0.5, 1.0), (0.6, 1.0), (0.7, 1.0), (0.8, 1.0), (0.9, 1.0) is not given.\n",
      "deepcave_logs_curves/ppo_atari_this_game: The budget correlation of (0.1, 0.2), (0.1, 0.3), (0.1, 0.4), (0.1, 0.5), (0.2, 0.5), (0.1, 0.6), (0.2, 0.6), (0.1, 0.7), (0.2, 0.7), (0.1, 0.8), (0.2, 0.8), (0.1, 0.9), (0.2, 1.0) is strong, (0.2, 0.3), (0.2, 0.4), (0.3, 0.4), (0.3, 0.5), (0.4, 0.5), (0.3, 0.6), (0.4, 0.6), (0.5, 0.6), (0.3, 0.7), (0.4, 0.7), (0.5, 0.7), (0.6, 0.7), (0.3, 0.8), (0.4, 0.8), (0.5, 0.8), (0.6, 0.8), (0.7, 0.8), (0.2, 0.9), (0.3, 0.9), (0.4, 0.9), (0.5, 0.9), (0.6, 0.9), (0.7, 0.9), (0.8, 0.9), (0.3, 1.0), (0.4, 1.0), (0.5, 1.0), (0.6, 1.0), (0.7, 1.0), (0.8, 1.0), (0.9, 1.0) is very strong, and (0.1, 1.0) is moderate.\n",
      "deepcave_logs_curves/ppo_box2d_lunar_lander: The budget correlation of (0.1, 0.2), (0.2, 0.3), (0.2, 0.4), (0.3, 0.4), (0.2, 0.5), (0.3, 0.5), (0.4, 0.5), (0.2, 0.6), (0.3, 0.6), (0.4, 0.6), (0.5, 0.6), (0.3, 0.7), (0.4, 0.7), (0.5, 0.7), (0.6, 0.7), (0.3, 0.8), (0.4, 0.8), (0.5, 0.8), (0.6, 0.8), (0.7, 0.8), (0.3, 0.9), (0.4, 0.9), (0.5, 0.9), (0.6, 0.9), (0.7, 0.9), (0.8, 0.9), (0.3, 1.0), (0.4, 1.0), (0.5, 1.0), (0.6, 1.0), (0.7, 1.0), (0.8, 1.0), (0.9, 1.0) is very strong, (0.1, 0.3), (0.1, 0.4), (0.1, 0.5), (0.1, 0.6), (0.2, 0.7), (0.2, 0.8), (0.2, 0.9), (0.2, 1.0) is strong, and (0.1, 0.7), (0.1, 0.8), (0.1, 0.9), (0.1, 1.0) is moderate.\n",
      "deepcave_logs_curves/ppo_cc_acrobot: The budget correlation of (0.1, 0.2), (0.2, 0.3), (0.2, 0.4), (0.3, 0.4), (0.2, 0.5), (0.3, 0.5), (0.4, 0.5), (0.3, 0.6), (0.4, 0.6), (0.5, 0.6), (0.3, 0.7), (0.4, 0.7), (0.5, 0.7), (0.6, 0.7), (0.3, 0.8), (0.4, 0.8), (0.5, 0.8), (0.6, 0.8), (0.7, 0.8), (0.4, 0.9), (0.5, 0.9), (0.6, 0.9), (0.7, 0.9), (0.8, 0.9), (0.4, 1.0), (0.5, 1.0), (0.6, 1.0), (0.7, 1.0), (0.8, 1.0), (0.9, 1.0) is very strong, and (0.1, 0.3), (0.1, 0.4), (0.1, 0.5), (0.1, 0.6), (0.2, 0.6), (0.1, 0.7), (0.2, 0.7), (0.1, 0.8), (0.2, 0.8), (0.1, 0.9), (0.2, 0.9), (0.3, 0.9), (0.1, 1.0), (0.2, 1.0), (0.3, 1.0) is strong.\n",
      "deepcave_logs_curves/ppo_cc_cartpole: The budget correlation of (0.1, 0.2), (0.1, 0.3), (0.2, 0.3), (0.1, 0.4), (0.2, 0.4), (0.3, 0.4), (0.3, 0.5), (0.4, 0.5), (0.3, 0.6), (0.4, 0.6), (0.5, 0.6), (0.4, 0.7), (0.5, 0.7), (0.6, 0.7), (0.4, 0.8), (0.5, 0.8), (0.6, 0.8), (0.7, 0.8), (0.4, 0.9), (0.5, 0.9), (0.6, 0.9), (0.7, 0.9), (0.8, 0.9), (0.4, 1.0), (0.5, 1.0), (0.6, 1.0), (0.7, 1.0), (0.8, 1.0), (0.9, 1.0) is very strong, and (0.1, 0.5), (0.2, 0.5), (0.1, 0.6), (0.2, 0.6), (0.1, 0.7), (0.2, 0.7), (0.3, 0.7), (0.1, 0.8), (0.2, 0.8), (0.3, 0.8), (0.1, 0.9), (0.2, 0.9), (0.3, 0.9), (0.1, 1.0), (0.2, 1.0), (0.3, 1.0) is strong.\n",
      "deepcave_logs_curves/ppo_cc_mountain_car: The budget correlation of (0.1, 0.2), (0.2, 0.4), (0.3, 0.4), (0.4, 0.6), (0.2, 0.7), (0.3, 0.9), (0.4, 0.9), (0.3, 1.0) is moderate, (0.1, 0.3), (0.1, 0.4), (0.1, 0.5), (0.2, 0.5), (0.1, 0.7), (0.1, 0.9) is not given, (0.2, 0.3), (0.4, 0.5), (0.5, 0.6), (0.3, 0.7), (0.4, 0.7), (0.5, 0.7), (0.6, 0.7), (0.2, 0.8), (0.3, 0.8), (0.4, 0.8), (0.5, 0.8), (0.6, 0.8), (0.7, 0.8), (0.5, 0.9), (0.6, 0.9), (0.7, 0.9), (0.8, 0.9), (0.4, 1.0), (0.5, 1.0), (0.6, 1.0), (0.7, 1.0), (0.8, 1.0), (0.9, 1.0) is strong, and (0.3, 0.5), (0.1, 0.6), (0.2, 0.6), (0.3, 0.6), (0.1, 0.8), (0.2, 0.9), (0.1, 1.0), (0.2, 1.0) is weak.\n",
      "deepcave_logs_curves/ppo_cc_pendulum: The budget correlation of (0.1, 0.2), (0.1, 0.3), (0.2, 0.3), (0.1, 0.4), (0.2, 0.4), (0.3, 0.4), (0.2, 0.5), (0.3, 0.5), (0.4, 0.5), (0.3, 0.6), (0.4, 0.6), (0.5, 0.6), (0.4, 0.7), (0.5, 0.7), (0.6, 0.7), (0.4, 0.8), (0.5, 0.8), (0.6, 0.8), (0.7, 0.8), (0.4, 0.9), (0.5, 0.9), (0.6, 0.9), (0.7, 0.9), (0.8, 0.9), (0.5, 1.0), (0.6, 1.0), (0.7, 1.0), (0.8, 1.0), (0.9, 1.0) is very strong, (0.1, 0.5), (0.1, 0.6), (0.2, 0.6), (0.1, 0.7), (0.2, 0.7), (0.3, 0.7), (0.1, 0.8), (0.2, 0.8), (0.3, 0.8), (0.1, 0.9), (0.2, 0.9), (0.3, 0.9), (0.2, 1.0), (0.3, 1.0), (0.4, 1.0) is strong, and (0.1, 1.0) is moderate.\n",
      "deepcave_logs_curves/ppo_cc_continuous_mountain_car: The budget correlation of (0.1, 0.2), (0.1, 0.3), (0.2, 0.3) is very strong, and (0.1, 0.4), (0.2, 0.4), (0.3, 0.4), (0.1, 0.5), (0.2, 0.5), (0.3, 0.5), (0.4, 0.5), (0.1, 0.6), (0.2, 0.6), (0.3, 0.6), (0.4, 0.6), (0.5, 0.6), (0.1, 0.7), (0.2, 0.7), (0.3, 0.7), (0.4, 0.7), (0.5, 0.7), (0.6, 0.7), (0.1, 0.8), (0.2, 0.8), (0.3, 0.8), (0.4, 0.8), (0.5, 0.8), (0.6, 0.8), (0.7, 0.8), (0.1, 0.9), (0.2, 0.9), (0.3, 0.9), (0.4, 0.9), (0.5, 0.9), (0.6, 0.9), (0.7, 0.9), (0.8, 0.9), (0.1, 1.0), (0.2, 1.0), (0.3, 1.0), (0.4, 1.0), (0.5, 1.0), (0.6, 1.0), (0.7, 1.0), (0.8, 1.0), (0.9, 1.0) is not given.\n",
      "deepcave_logs_curves/ppo_minigrid_door_key: The budget correlation of (0.1, 0.2), (0.1, 0.3), (0.2, 0.3), (0.2, 0.4), (0.3, 0.4), (0.2, 0.5), (0.3, 0.5), (0.4, 0.5), (0.2, 0.6), (0.3, 0.6), (0.4, 0.6), (0.5, 0.6), (0.2, 0.7), (0.3, 0.7), (0.4, 0.7), (0.5, 0.7), (0.6, 0.7), (0.2, 0.8), (0.3, 0.8), (0.4, 0.8), (0.5, 0.8), (0.6, 0.8), (0.7, 0.8), (0.2, 0.9), (0.3, 0.9), (0.4, 0.9), (0.5, 0.9), (0.6, 0.9), (0.7, 0.9), (0.8, 0.9), (0.3, 1.0), (0.4, 1.0), (0.5, 1.0), (0.6, 1.0), (0.7, 1.0), (0.8, 1.0), (0.9, 1.0) is very strong, and (0.1, 0.4), (0.1, 0.5), (0.1, 0.6), (0.1, 0.7), (0.1, 0.8), (0.1, 0.9), (0.1, 1.0), (0.2, 1.0) is strong.\n",
      "deepcave_logs_curves/ppo_minigrid_empty_random: The budget correlation of (0.1, 0.2), (0.1, 0.3), (0.2, 0.3), (0.1, 0.4), (0.2, 0.4), (0.3, 0.4), (0.1, 0.5), (0.2, 0.5), (0.3, 0.5), (0.4, 0.5), (0.1, 0.6), (0.2, 0.6), (0.3, 0.6), (0.4, 0.6), (0.5, 0.6), (0.1, 0.7), (0.2, 0.7), (0.3, 0.7), (0.4, 0.7), (0.5, 0.7), (0.6, 0.7), (0.1, 0.8), (0.2, 0.8), (0.3, 0.8), (0.4, 0.8), (0.5, 0.8), (0.6, 0.8), (0.7, 0.8), (0.1, 0.9), (0.2, 0.9), (0.3, 0.9), (0.4, 0.9), (0.5, 0.9), (0.6, 0.9), (0.7, 0.9), (0.8, 0.9), (0.2, 1.0), (0.3, 1.0), (0.4, 1.0), (0.5, 1.0), (0.6, 1.0), (0.7, 1.0), (0.8, 1.0), (0.9, 1.0) is very strong, and (0.1, 1.0) is strong.\n",
      "deepcave_logs_curves/ppo_minigrid_four_rooms: The budget correlation of (0.1, 0.2), (0.1, 0.3), (0.2, 0.3), (0.1, 0.4), (0.2, 0.4), (0.3, 0.4), (0.1, 0.5), (0.2, 0.5), (0.3, 0.5), (0.4, 0.5), (0.1, 0.6), (0.2, 0.6), (0.3, 0.6), (0.4, 0.6), (0.5, 0.6), (0.1, 0.7), (0.2, 0.7), (0.3, 0.7), (0.4, 0.7), (0.5, 0.7), (0.6, 0.7), (0.1, 0.8), (0.2, 0.8), (0.3, 0.8), (0.4, 0.8), (0.5, 0.8), (0.6, 0.8), (0.7, 0.8), (0.1, 0.9), (0.2, 0.9), (0.3, 0.9), (0.4, 0.9), (0.5, 0.9), (0.6, 0.9), (0.7, 0.9), (0.8, 0.9), (0.1, 1.0), (0.2, 1.0), (0.3, 1.0), (0.4, 1.0), (0.5, 1.0), (0.6, 1.0), (0.7, 1.0), (0.8, 1.0), (0.9, 1.0) is very strong.\n",
      "deepcave_logs_curves/ppo_minigrid_unlock: The budget correlation of (0.1, 0.2) is moderate, (0.1, 0.3), (0.1, 0.4), (0.1, 0.5), (0.1, 0.6), (0.1, 0.7), (0.1, 0.8), (0.1, 1.0) is weak, (0.2, 0.3), (0.2, 0.4), (0.2, 0.5), (0.3, 0.5), (0.2, 0.6), (0.3, 0.6), (0.2, 0.7), (0.2, 0.8), (0.2, 0.9), (0.3, 0.9), (0.4, 0.9), (0.2, 1.0), (0.3, 1.0) is strong, (0.3, 0.4), (0.4, 0.5), (0.4, 0.6), (0.5, 0.6), (0.3, 0.7), (0.4, 0.7), (0.5, 0.7), (0.6, 0.7), (0.3, 0.8), (0.4, 0.8), (0.5, 0.8), (0.6, 0.8), (0.7, 0.8), (0.5, 0.9), (0.6, 0.9), (0.7, 0.9), (0.8, 0.9), (0.4, 1.0), (0.5, 1.0), (0.6, 1.0), (0.7, 1.0), (0.8, 1.0), (0.9, 1.0) is very strong, and (0.1, 0.9) is not given.\n",
      "deepcave_logs_curves/ppo_brax_ant: The budget correlation of (0.1, 0.2), (0.1, 0.3), (0.2, 0.3), (0.1, 0.4), (0.2, 0.4), (0.3, 0.4), (0.1, 0.5), (0.2, 0.5), (0.3, 0.5), (0.4, 0.5), (0.1, 0.6), (0.2, 0.6), (0.3, 0.6), (0.4, 0.6), (0.5, 0.6), (0.1, 0.7), (0.2, 0.7), (0.3, 0.7), (0.4, 0.7), (0.5, 0.7), (0.6, 0.7), (0.1, 0.8), (0.2, 0.8), (0.3, 0.8), (0.4, 0.8), (0.5, 0.8), (0.6, 0.8), (0.7, 0.8), (0.1, 0.9), (0.2, 0.9), (0.3, 0.9), (0.4, 0.9), (0.5, 0.9), (0.6, 0.9), (0.7, 0.9), (0.8, 0.9), (0.1, 1.0), (0.2, 1.0), (0.3, 1.0), (0.4, 1.0), (0.5, 1.0), (0.6, 1.0), (0.7, 1.0), (0.8, 1.0), (0.9, 1.0) is not given.\n",
      "deepcave_logs_curves/ppo_brax_halfcheetah: The budget correlation of (0.1, 0.2), (0.1, 0.3), (0.2, 0.3), (0.1, 0.4), (0.2, 0.4), (0.3, 0.4), (0.1, 0.5), (0.2, 0.5), (0.3, 0.5), (0.4, 0.5), (0.1, 0.6), (0.2, 0.6), (0.3, 0.6), (0.4, 0.6), (0.5, 0.6), (0.1, 0.7), (0.2, 0.7), (0.3, 0.7), (0.4, 0.7), (0.5, 0.7), (0.6, 0.7), (0.1, 0.8), (0.2, 0.8), (0.3, 0.8), (0.4, 0.8), (0.5, 0.8), (0.6, 0.8), (0.7, 0.8), (0.1, 0.9), (0.2, 0.9), (0.3, 0.9), (0.4, 0.9), (0.5, 0.9), (0.6, 0.9), (0.7, 0.9), (0.8, 0.9), (0.1, 1.0), (0.2, 1.0), (0.3, 1.0), (0.4, 1.0), (0.5, 1.0), (0.6, 1.0), (0.7, 1.0), (0.8, 1.0), (0.9, 1.0) is not given.\n",
      "deepcave_logs_curves/ppo_brax_hopper: The budget correlation of (0.1, 0.2), (0.1, 0.3), (0.2, 0.3), (0.1, 0.4), (0.2, 0.4), (0.3, 0.4), (0.1, 0.5), (0.2, 0.5), (0.3, 0.5), (0.4, 0.5), (0.2, 0.6), (0.3, 0.6), (0.4, 0.6), (0.5, 0.6), (0.2, 0.7), (0.3, 0.7), (0.4, 0.7), (0.5, 0.7), (0.6, 0.7), (0.3, 0.8), (0.4, 0.8), (0.5, 0.8), (0.6, 0.8), (0.7, 0.8), (0.3, 0.9), (0.4, 0.9), (0.5, 0.9), (0.6, 0.9), (0.7, 0.9), (0.8, 0.9), (0.3, 1.0), (0.4, 1.0), (0.5, 1.0), (0.6, 1.0), (0.7, 1.0), (0.8, 1.0), (0.9, 1.0) is very strong, and (0.1, 0.6), (0.1, 0.7), (0.1, 0.8), (0.2, 0.8), (0.1, 0.9), (0.2, 0.9), (0.1, 1.0), (0.2, 1.0) is strong.\n",
      "deepcave_logs_curves/ppo_brax_humanoid: The budget correlation of (0.1, 0.2), (0.1, 0.3), (0.2, 0.3), (0.1, 0.4), (0.2, 0.4), (0.3, 0.4), (0.1, 0.5), (0.2, 0.5), (0.3, 0.5), (0.4, 0.5), (0.1, 0.6), (0.2, 0.6), (0.3, 0.6), (0.4, 0.6), (0.5, 0.6), (0.1, 0.7), (0.2, 0.7), (0.3, 0.7), (0.4, 0.7), (0.5, 0.7), (0.6, 0.7), (0.1, 0.8), (0.2, 0.8), (0.3, 0.8), (0.4, 0.8), (0.5, 0.8), (0.6, 0.8), (0.7, 0.8), (0.1, 0.9), (0.2, 0.9), (0.3, 0.9), (0.4, 0.9), (0.5, 0.9), (0.6, 0.9), (0.7, 0.9), (0.8, 0.9), (0.1, 1.0), (0.2, 1.0), (0.3, 1.0), (0.4, 1.0), (0.5, 1.0), (0.6, 1.0), (0.7, 1.0), (0.8, 1.0), (0.9, 1.0) is very strong.\n",
      "deepcave_logs_curves/ppo_atari_battle_zone: The budget correlation of (0.1, 0.2), (0.2, 0.3), (0.2, 0.4), (0.3, 0.4), (0.2, 0.5), (0.3, 0.5), (0.4, 0.5), (0.2, 0.6), (0.3, 0.6), (0.4, 0.6), (0.5, 0.6), (0.2, 0.7), (0.3, 0.7), (0.4, 0.7), (0.5, 0.7), (0.6, 0.7), (0.3, 0.8), (0.4, 0.8), (0.5, 0.8), (0.6, 0.8), (0.7, 0.8), (0.2, 0.9), (0.3, 0.9), (0.4, 0.9), (0.5, 0.9), (0.6, 0.9), (0.7, 0.9), (0.8, 0.9), (0.2, 1.0), (0.3, 1.0), (0.4, 1.0), (0.5, 1.0), (0.6, 1.0), (0.7, 1.0), (0.8, 1.0), (0.9, 1.0) is very strong, and (0.1, 0.3), (0.1, 0.4), (0.1, 0.5), (0.1, 0.6), (0.1, 0.7), (0.1, 0.8), (0.2, 0.8), (0.1, 0.9), (0.1, 1.0) is strong.\n"
     ]
    }
   ],
   "source": [
    "for data_path in deepcave_paths:\n",
    "    try:\n",
    "        img = get_budget_correlations(Path(data_path) / \"run_1\")\n",
    "        img[1].write_image(data_path + \"/budget_correlations.png\")\n",
    "        print(data_path + \": \" + img[0])\n",
    "        corrs[data_path] = img[0]\n",
    "    except Exception as e:\n",
    "        #print(\"Error\")\n",
    "        #print(e)\n",
    "        pass"
   ]
  },
  {
   "cell_type": "code",
   "execution_count": 98,
   "metadata": {},
   "outputs": [],
   "source": [
    "json.dump(corrs, open(f\"budget_correlations_{algorithm}.json\", \"w\"))"
   ]
  }
 ],
 "metadata": {
  "kernelspec": {
   "display_name": "arlbench",
   "language": "python",
   "name": "python3"
  },
  "language_info": {
   "codemirror_mode": {
    "name": "ipython",
    "version": 3
   },
   "file_extension": ".py",
   "mimetype": "text/x-python",
   "name": "python",
   "nbconvert_exporter": "python",
   "pygments_lexer": "ipython3",
   "version": "3.10.14"
  }
 },
 "nbformat": 4,
 "nbformat_minor": 2
}
